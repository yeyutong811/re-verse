{
 "cells": [
  {
   "cell_type": "markdown",
   "id": "35c4df8e",
   "metadata": {},
   "source": [
    "## Goals\n",
    "### Primary Goal: Identify whether there is a bottle\n",
    "### Stretched Goal: Identify what type of bottle it is"
   ]
  },
  {
   "cell_type": "code",
   "execution_count": 79,
   "id": "c1942ca2",
   "metadata": {},
   "outputs": [],
   "source": [
    "from utils import *\n",
    "from random import randint\n",
    "import torch\n",
    "import torch.nn as nn\n",
    "import numpy as np\n",
    "from torchvision import transforms\n",
    "import time\n",
    "import cv2\n",
    "import matplotlib.pyplot as plt\n",
    "import torchvision.models as models\n",
    "import tensorflow as tf\n",
    "import os\n",
    "import pandas as pd\n",
    "from fastai.vision import *\n",
    "from pathlib import Path\n"
   ]
  },
  {
   "cell_type": "code",
   "execution_count": 80,
   "id": "5627d029",
   "metadata": {},
   "outputs": [],
   "source": [
    "device = torch.device(\"cuda\") if torch.cuda.is_available() else torch.device(\"cpu\")\n",
    "\n",
    "# device = torch.device(\"cpu\") \n",
    "default_epoch = 15"
   ]
  },
  {
   "cell_type": "code",
   "execution_count": 81,
   "id": "4de413d7",
   "metadata": {},
   "outputs": [],
   "source": [
    "def pil_loader(path):\n",
    "    with open(path, 'rb') as f:\n",
    "        img = Image.open(f)\n",
    "        return img.convert('RGB')\n",
    "    \n",
    "def show(X):\n",
    "    plt.imshow(np.transpose(X.numpy(), (1,2,0)))\n",
    "    plt.show()"
   ]
  },
  {
   "cell_type": "code",
   "execution_count": 313,
   "id": "daf36d9c",
   "metadata": {},
   "outputs": [],
   "source": [
    "# Normalize and resize the images\n",
    "transform = torch.nn.Sequential(\n",
    "    transforms.Resize((128,64)),\n",
    "    transforms.Normalize((0.5690, 0.5610, 0.5173), (0.2864, 0.2673, 0.2858))    \n",
    ")  # Normalised values obtained from training dataset."
   ]
  },
  {
   "cell_type": "code",
   "execution_count": 297,
   "id": "b33b7294",
   "metadata": {},
   "outputs": [
    {
     "name": "stdout",
     "output_type": "stream",
     "text": [
      "<class 'list'>\n",
      "1014\n",
      "2097\n"
     ]
    }
   ],
   "source": [
    "onlyfiles_bottle = [f for f in os.listdir('data/Bottle')]\n",
    "print(type(onlyfiles_bottle))\n",
    "print(len(onlyfiles_bottle))\n",
    "\n",
    "onlyfiles_nobottle = [f for f in os.listdir('data/NoBottle2')]\n",
    "print(len(onlyfiles_nobottle))"
   ]
  },
  {
   "cell_type": "code",
   "execution_count": 314,
   "id": "e71ee33e",
   "metadata": {},
   "outputs": [
    {
     "name": "stdout",
     "output_type": "stream",
     "text": [
      "<class 'list'>\n",
      "1014\n",
      "<class 'numpy.ndarray'>\n",
      "1014\n",
      "300\n",
      "714\n",
      "image2020-02-18 00_06_11.733850.jpg\n"
     ]
    }
   ],
   "source": [
    "# Bottle\n",
    "onlyfiles_bottle = [f for f in os.listdir('data/Bottle')]\n",
    "print(type(onlyfiles_bottle))\n",
    "print(len(onlyfiles_bottle))\n",
    "\n",
    "samples_bottle = []\n",
    "for i, filenames in enumerate(onlyfiles_bottle):\n",
    "    samples_bottle.append([filenames, 1])             # Assign label of 1 when there is bottle\n",
    "\n",
    "np.random.seed(3)\n",
    "p = np.random.permutation(len(samples_bottle))\n",
    "samples_bottle = np.array(samples_bottle)\n",
    "\n",
    "print(type(samples_bottle))\n",
    "print(len(samples_bottle))\n",
    "\n",
    "test_data_bottle = samples_bottle[p[:300]][:,0]\n",
    "test_labels_bottle = samples_bottle[p[:300]][:,1]\n",
    "train_data_bottle = samples_bottle[p[300:]][:,0]\n",
    "train_labels_bottle = samples_bottle[p[300:]][:,1]\n",
    "\n",
    "print(len(test_data_bottle))\n",
    "print(len(train_data_bottle))\n",
    "\n",
    "print(test_data_bottle[0])\n",
    "\n",
    "#img = pil_loader('data/Bottle/' + train_data_bottle[0])\n",
    "#print(img)\n",
    "#img = transforms.Resize(128)(img)\n",
    "#img = transforms.ToTensor()(img)\n",
    "#print(img.size())\n",
    "#img = pil_loader('data/Bottle/' + train_data_bottle[1])\n",
    "#print(img)\n",
    "#img = transforms.Resize(128)(img)\n",
    "#img = transforms.ToTensor()(img)\n",
    "#print(img.size())\n",
    "\n",
    "def getBottle(train, index):\n",
    "    if train:\n",
    "        img_path, label = train_data_bottle[index], train_labels_bottle[index]\n",
    "    else:\n",
    "        img_path, label = test_data_bottle[index], test_labels_bottle[index]\n",
    "\n",
    "    img = pil_loader('data/Bottle/' + img_path)\n",
    "    \n",
    "    #img = transforms.Resize(32)(img)\n",
    "    img = transforms.Resize((128,64))(img)\n",
    "    #img = transforms.Resize(64)(img)\n",
    "    img = transforms.ToTensor()(img)\n",
    "    img = transform(img)\n",
    "\n",
    "    return img, label"
   ]
  },
  {
   "cell_type": "code",
   "execution_count": 315,
   "id": "7354e330",
   "metadata": {},
   "outputs": [
    {
     "name": "stdout",
     "output_type": "stream",
     "text": [
      "2097\n",
      "<class 'numpy.ndarray'>\n",
      "2097\n",
      "600\n",
      "1497\n"
     ]
    }
   ],
   "source": [
    "# No bottle\n",
    "onlyfiles_nobottle = [f for f in os.listdir('data/NoBottle2')]\n",
    "print(len(onlyfiles_nobottle))\n",
    "\n",
    "samples_nobottle = []\n",
    "for i, filenames in enumerate(onlyfiles_nobottle):\n",
    "    samples_nobottle.append([filenames, 0])             # Assign label of 1 when there is bottle\n",
    "\n",
    "np.random.seed(3)\n",
    "p = np.random.permutation(len(samples_nobottle))\n",
    "samples_nobottle = np.array(samples_nobottle)\n",
    "\n",
    "print(type(samples_nobottle))\n",
    "print(len(samples_nobottle))\n",
    "\n",
    "test_data_nobottle = samples_nobottle[p[:600]][:,0]\n",
    "test_labels_nobottle = samples_nobottle[p[:600]][:,1]\n",
    "train_data_nobottle = samples_nobottle[p[600:]][:,0]\n",
    "train_labels_nobottle = samples_nobottle[p[600:]][:,1]\n",
    "\n",
    "print(len(test_data_nobottle))\n",
    "print(len(train_data_nobottle))\n",
    "\n",
    "def getNoBottle(train, index):\n",
    "    if train:\n",
    "        img_path, label = train_data_nobottle[index], train_labels_nobottle[index]\n",
    "    else:\n",
    "        img_path, label = test_data_nobottle[index], test_labels_nobottle[index]\n",
    "\n",
    "    img = pil_loader('data/NoBottle2/' + img_path)\n",
    "    #img = transforms.Resize(32)(img)\n",
    "    img = transforms.Resize((128,64))(img)\n",
    "    #img = transforms.Resize(64)(img)\n",
    "    img = transforms.ToTensor()(img)\n",
    "    img = transform(img)\n",
    "\n",
    "    return img, label"
   ]
  },
  {
   "cell_type": "code",
   "execution_count": 316,
   "id": "e3b88f61",
   "metadata": {},
   "outputs": [
    {
     "name": "stderr",
     "output_type": "stream",
     "text": [
      "Clipping input data to the valid range for imshow with RGB data ([0..1] for floats or [0..255] for integers).\n"
     ]
    },
    {
     "name": "stdout",
     "output_type": "stream",
     "text": [
      "Bottle Train Image\n"
     ]
    },
    {
     "data": {
      "image/png": "[encoded data removed]",
      "text/plain": [
       "<Figure size 432x288 with 1 Axes>"
      ]
     },
     "metadata": {
      "needs_background": "light"
     },
     "output_type": "display_data"
    },
    {
     "name": "stderr",
     "output_type": "stream",
     "text": [
      "Clipping input data to the valid range for imshow with RGB data ([0..1] for floats or [0..255] for integers).\n"
     ]
    },
    {
     "name": "stdout",
     "output_type": "stream",
     "text": [
      "(tensor([[[-0.7407, -0.6996, -0.6585,  ..., -0.9187, -0.9324, -0.9735],\n",
      "         [-0.7133, -0.6859, -0.6585,  ..., -0.9050, -0.9050, -0.9324],\n",
      "         [-0.6722, -0.6585, -0.6449,  ..., -0.8913, -0.8913, -0.9187],\n",
      "         ...,\n",
      "         [-0.8502, -0.8366, -0.8229,  ..., -1.0693, -1.0556, -1.0967],\n",
      "         [-0.8366, -0.8092, -0.7955,  ..., -1.0830, -1.0693, -1.0967],\n",
      "         [-0.8229, -0.8092, -0.7955,  ..., -1.0830, -1.0693, -1.0967]],\n",
      "\n",
      "        [[ 0.0285,  0.0725,  0.1166,  ..., -0.2209, -0.2209, -0.2649],\n",
      "         [ 0.0432,  0.0725,  0.1019,  ..., -0.1915, -0.1915, -0.2209],\n",
      "         [ 0.0579,  0.0725,  0.0872,  ..., -0.1915, -0.1769, -0.2062],\n",
      "         ...,\n",
      "         [-0.3382, -0.3236, -0.3089,  ..., -0.4409, -0.4116, -0.4556],\n",
      "         [-0.3236, -0.2942, -0.2796,  ..., -0.4409, -0.4263, -0.4556],\n",
      "         [-0.3089, -0.2942, -0.2796,  ..., -0.4409, -0.4263, -0.4556]],\n",
      "\n",
      "        [[ 0.2070,  0.2482,  0.2894,  ...,  0.0012,  0.0012, -0.0399],\n",
      "         [ 0.2345,  0.2482,  0.2756,  ...,  0.0287,  0.0287,  0.0012],\n",
      "         [ 0.2482,  0.2619,  0.2756,  ...,  0.0287,  0.0424,  0.0149],\n",
      "         ...,\n",
      "         [-0.0537, -0.0399, -0.0262,  ..., -0.1634, -0.1223, -0.1497],\n",
      "         [-0.0399, -0.0125,  0.0012,  ..., -0.1634, -0.1360, -0.1497],\n",
      "         [-0.0262, -0.0125,  0.0012,  ..., -0.1634, -0.1360, -0.1497]]]), '1')\n",
      "<class 'tuple'>\n",
      "No Bottle Train Image\n"
     ]
    },
    {
     "data": {
      "image/png": "[encoded data removed]",
      "text/plain": [
       "<Figure size 432x288 with 1 Axes>"
      ]
     },
     "metadata": {
      "needs_background": "light"
     },
     "output_type": "display_data"
    }
   ],
   "source": [
    "print(\"Bottle Train Image\")\n",
    "bottle_train_img = getBottle(train=True, index=0)\n",
    "show(bottle_train_img[0])\n",
    "print(bottle_train_img)\n",
    "print(type(bottle_train_img))\n",
    "\n",
    "print(\"No Bottle Train Image\")\n",
    "nobottle_train_img = getNoBottle(train=True, index=0)\n",
    "show(nobottle_train_img[0])"
   ]
  },
  {
   "cell_type": "code",
   "execution_count": 317,
   "id": "f8ce6514",
   "metadata": {},
   "outputs": [
    {
     "name": "stdout",
     "output_type": "stream",
     "text": [
      "2211\n",
      "900\n",
      "<class 'tuple'>\n",
      "<class 'list'>\n"
     ]
    }
   ],
   "source": [
    "#bottle_train_data = getNoBottle(train=True, index=i)\n",
    "train_data = []\n",
    "for i in range(714):\n",
    "    train_data.append(getBottle(train=True, index=i))\n",
    "for i in range(1497):\n",
    "    train_data.append(getNoBottle(train=True, index=i))\n",
    "print(len(train_data))  \n",
    "\n",
    "test_data = []\n",
    "for i in range(300):\n",
    "    test_data.append(getBottle(train=False, index=i))\n",
    "for i in range(600):\n",
    "    test_data.append(getNoBottle(train=False, index=i))\n",
    "print(len(test_data))\n",
    "\n",
    "print(type(getBottle(train=True, index=0)))\n",
    "print(type(train_data))"
   ]
  },
  {
   "cell_type": "code",
   "execution_count": 318,
   "id": "24f2c351",
   "metadata": {},
   "outputs": [
    {
     "name": "stdout",
     "output_type": "stream",
     "text": [
      "torch.Size([3, 128, 64])\n",
      "torch.Size([3, 128, 64])\n"
     ]
    }
   ],
   "source": [
    "print(train_data[0][0].size())\n",
    "print(train_data[1][0].size())"
   ]
  },
  {
   "cell_type": "code",
   "execution_count": 319,
   "id": "741e9f70",
   "metadata": {},
   "outputs": [],
   "source": [
    "# Load into dataloader for easier batching\n",
    "bs = 64\n",
    "train_dataloader = torch.utils.data.DataLoader(train_data, batch_size=bs, shuffle=True)\n",
    "test_dataloader = torch.utils.data.DataLoader(test_data, batch_size=bs)"
   ]
  },
  {
   "cell_type": "code",
   "execution_count": 312,
   "id": "b480d9dc",
   "metadata": {},
   "outputs": [
    {
     "name": "stdout",
     "output_type": "stream",
     "text": [
      "tensor([0.5690, 0.5610, 0.5173])\n",
      "tensor([0.2864, 0.2673, 0.2858])\n"
     ]
    }
   ],
   "source": [
    "# Getting the mean and std across all three channels for normalisation. Run only once.\n",
    "means = []\n",
    "stds = []\n",
    "for i in train_data:\n",
    "    means.append((i[0]))\n",
    "    stds.append(i[0])\n",
    "test =  torch.cat(means)\n",
    "test = test.view(-1,3,128,64)\n",
    "print(test.mean(axis=(0,2,3)))\n",
    "print(test.std(axis=(0,2,3)))"
   ]
  },
  {
   "cell_type": "code",
   "execution_count": 320,
   "id": "f392a533",
   "metadata": {},
   "outputs": [],
   "source": [
    "# MLP\n",
    "class BaseMLP(nn.Module):\n",
    "    def __init__(self, input_size, hidden_size1, hidden_size2, hidden_size3, output_size):\n",
    "        super(BaseMLP, self).__init__()\n",
    "        self.layer1 = nn.Linear(input_size, hidden_size1)\n",
    "        self.layer2 = nn.Linear(hidden_size1, hidden_size2)\n",
    "        self.layer3 = nn.Linear(hidden_size2, hidden_size3)\n",
    "        self.layer4 = nn.Linear(hidden_size3, output_size)\n",
    "        \n",
    "    def forward(self, x):\n",
    "        x = x.view(-1,24576)\n",
    "        x = self.layer1(x)\n",
    "        x = torch.relu(x)\n",
    "        x = self.layer2(x)\n",
    "        x = torch.relu(x)\n",
    "        x = self.layer3(x)\n",
    "        x = torch.relu(x)\n",
    "        x = self.layer4(x)\n",
    "        return x\n",
    "    \n",
    "# CNN\n",
    "class BaseCNN(nn.Module):\n",
    "    def __init__(self, input_size, hidden_size, output_size):\n",
    "        super(BaseCNN, self).__init__()\n",
    "        self.output_size = output_size\n",
    "        self.conv1 = nn.Conv2d(input_size, hidden_size, kernel_size = 3, stride = 2, padding = 1) #3*128*64 -> 8*64*32\n",
    "        self.conv2 = nn.Conv2d(hidden_size, output_size, kernel_size = 3,stride =2, padding = 1) #8*64*32 -> 16*32*16\n",
    "        self.linearlayer1 = nn.Linear(output_size*32*16, 2)                                     #16*32*16 -> 1*8192\n",
    "        \n",
    "    def forward(self, x):\n",
    "        x = self.conv1(x)\n",
    "        x = torch.relu(x)\n",
    "        x = self.conv2(x)\n",
    "        x = torch.relu(x)\n",
    "        x = x.view(-1, self.output_size*32*16)\n",
    "        x = self.linearlayer1(x)\n",
    "        return x\n",
    "        \n",
    "#basemlp = BaseMLP(3*128*64, 128, 64, 32, 2)\n",
    "#basecnn = BaseCNN(3, 8, 16)"
   ]
  },
  {
   "cell_type": "code",
   "execution_count": 321,
   "id": "420300d6",
   "metadata": {},
   "outputs": [],
   "source": [
    "def init_list():\n",
    "    \"\"\"\n",
    "    init an empty list of list for data storage\"\"\"\n",
    "    lst = [] \n",
    "    for i in range(8):\n",
    "        lst.append([]) \n",
    "    return lst"
   ]
  },
  {
   "cell_type": "code",
   "execution_count": 322,
   "id": "488a1e63",
   "metadata": {},
   "outputs": [],
   "source": [
    "# Training function\n",
    "def train(epochs, dataloader, testdataloader, model, lr, loss_class, opt, out_result = init_list()):\n",
    "    start = time.time()\n",
    "    for i in range(epochs):\n",
    "        validation_loss = 0.0\n",
    "        running_loss = 0.0\n",
    "        num_batches = 0\n",
    "        for batch_idx, [data, label] in enumerate(dataloader):\n",
    "            opt.zero_grad()\n",
    "            label = [int(x) for x in label]\n",
    "            label = torch.LongTensor(label)\n",
    "            if str(device.type) == \"cuda\" :\n",
    "                data, label = data.cuda(), label.cuda()\n",
    "            else :\n",
    "                data, label = data.cpu(), label.cpu()     \n",
    "                \n",
    "            scores = model(data)\n",
    "            loss = loss_class(scores, label)\n",
    "            loss.backward()\n",
    "            opt.step()\n",
    "            \n",
    "\n",
    "            running_loss += loss.detach().item()\n",
    "            num_batches += 1\n",
    "            \n",
    "        total_loss = running_loss/num_batches\n",
    "        print(f'epoch={i + 1},\\t lr={lr},\\t loss={total_loss}')\n",
    "        \n",
    "        eval(model, testdataloader, out_result)\n",
    "    print(f'Time elapsed:{time.time()-start}')\n",
    "    out_result.append(time.time()-start)"
   ]
  },
  {
   "cell_type": "code",
   "execution_count": 323,
   "id": "ad7f21da",
   "metadata": {},
   "outputs": [],
   "source": [
    "# Testing code\n",
    "def eval(model, setloader, out_result = init_list()):\n",
    "    correct_count = 0\n",
    "    total_count = 0\n",
    "    \n",
    "    prediction = torch.zeros(0).cpu()\n",
    "    truth = torch.zeros(0).cpu()\n",
    "    \n",
    "#    if is_on_cuda :\n",
    "#        prediction = torch.zeros(0).cuda()\n",
    "#        truth = torch.zeros(0).cuda()\n",
    "    \n",
    "    for batch_idx, [data, label] in enumerate(setloader):\n",
    "        label = torch.LongTensor([int(x) for x in label])\n",
    "        if str(device.type) == \"cuda\" :\n",
    "            data, label = data.cuda(), label.cuda()\n",
    "            print(\"cuda is on\")\n",
    "        else :\n",
    "            data, label = data.cpu(), label.cpu()\n",
    "        \n",
    "        probs = model(data)\n",
    "        probs = nn.Softmax(dim=1)(probs)\n",
    "        pred = torch.argmax(probs, dim=1)\n",
    "        \n",
    "        # Result collection\n",
    "#         correct_count += torch.sum(label==pred).detach().item()\n",
    "#         total_count += len(data)\n",
    "        prediction = torch.cat((prediction, pred),dim=0)\n",
    "        truth = torch.cat((truth, label),dim=0)\n",
    "        #print(torch.sum(label==pred).detach().item())\n",
    "        \n",
    "    # Results calculation here\n",
    "    prediction, truth = prediction.detach(), truth.detach()\n",
    "    #display.metrics(prediction, truth)\n",
    "    calculate(prediction, truth, out_result)"
   ]
  },
  {
   "cell_type": "code",
   "execution_count": 324,
   "id": "91bc389c",
   "metadata": {},
   "outputs": [],
   "source": [
    "def calculate(prediction, truth, out):\n",
    "    \"\"\"\n",
    "    Takes in a tensor of predictions and a tensor of labels.\n",
    "    Store tp, fp, tn, fn, acc, precision, recall ,f1 in this order.\"\"\"\n",
    "    acc = torch.sum(prediction==truth).item() / len(prediction)\n",
    "    confusion_vector = prediction/truth\n",
    "    tp = torch.sum(confusion_vector == 1).item()\n",
    "    fp = torch.sum(confusion_vector == float('inf')).item()\n",
    "    tn = torch.sum(torch.isnan(confusion_vector)).item()\n",
    "    fn = torch.sum(confusion_vector == 0).item()\n",
    "    precision = 0 if (tp+fp) == 0 else tp/(tp+fp)\n",
    "    recall = 0 if (tp+fn) == 0 else tp/(tp+fn)\n",
    "    f1 = 0 if (precision+recall) == 0 else 2*precision*recall/(precision+recall)\n",
    "    out[0].append(float(tp))\n",
    "    out[1].append(float(fp))\n",
    "    out[2].append(float(tn))\n",
    "    out[3].append(float(fn))\n",
    "    out[4].append(acc)\n",
    "    out[5].append(precision)\n",
    "    out[6].append(recall)\n",
    "    out[7].append(f1)"
   ]
  },
  {
   "cell_type": "code",
   "execution_count": 325,
   "id": "375fe4b3",
   "metadata": {},
   "outputs": [
    {
     "name": "stdout",
     "output_type": "stream",
     "text": [
      "epoch=1,\t lr=0.001,\t loss=0.2279309329177652\n",
      "epoch=2,\t lr=0.001,\t loss=0.08796711532132966\n",
      "epoch=3,\t lr=0.001,\t loss=0.06132486773920911\n",
      "epoch=4,\t lr=0.001,\t loss=0.048404840832310066\n",
      "epoch=5,\t lr=0.001,\t loss=0.045659428502299954\n",
      "epoch=6,\t lr=0.001,\t loss=0.0419252139782267\n",
      "epoch=7,\t lr=0.001,\t loss=0.03206563396379351\n",
      "epoch=8,\t lr=0.001,\t loss=0.02360239000990987\n",
      "epoch=9,\t lr=0.001,\t loss=0.019712407225077704\n",
      "epoch=10,\t lr=0.001,\t loss=0.016966440824658743\n",
      "epoch=11,\t lr=0.001,\t loss=0.025832133580531394\n",
      "epoch=12,\t lr=0.001,\t loss=0.014968914811366371\n",
      "epoch=13,\t lr=0.001,\t loss=0.021943282851550196\n",
      "epoch=14,\t lr=0.001,\t loss=0.012728823267389089\n",
      "epoch=15,\t lr=0.001,\t loss=0.010145479450667544\n",
      "Time elapsed:22.69243812561035\n"
     ]
    }
   ],
   "source": [
    "baseCNN = BaseCNN(3, 8, 16).to(device)    \n",
    "# bs=32  @ adjust batchsize in dataloader \n",
    "lr = 0.001\n",
    "opt = torch.optim.Adam(baseCNN.parameters(), lr=lr)\n",
    "epoch = default_epoch\n",
    "loss_class = nn.CrossEntropyLoss()\n",
    "\n",
    "result_base_cnn = init_list()\n",
    "train(epoch, train_dataloader, test_dataloader, baseCNN, lr, loss_class, opt, result_base_cnn)"
   ]
  },
  {
   "cell_type": "code",
   "execution_count": 326,
   "id": "bb2d85b6",
   "metadata": {},
   "outputs": [],
   "source": [
    "eval(baseCNN, test_dataloader)"
   ]
  },
  {
   "cell_type": "code",
   "execution_count": 327,
   "id": "6dc59c3d",
   "metadata": {},
   "outputs": [
    {
     "name": "stdout",
     "output_type": "stream",
     "text": [
      "epoch=1,\t lr=0.001,\t loss=0.27886598482728003\n",
      "epoch=2,\t lr=0.001,\t loss=0.1434034055897168\n",
      "epoch=3,\t lr=0.001,\t loss=0.07477997195507799\n",
      "epoch=4,\t lr=0.001,\t loss=0.06659535760326045\n",
      "epoch=5,\t lr=0.001,\t loss=0.061898852359237415\n",
      "epoch=6,\t lr=0.001,\t loss=0.07338862441081022\n",
      "epoch=7,\t lr=0.001,\t loss=0.02187365470786712\n",
      "epoch=8,\t lr=0.001,\t loss=0.015234796802646347\n",
      "epoch=9,\t lr=0.001,\t loss=0.015638460857527597\n",
      "epoch=10,\t lr=0.001,\t loss=0.010252919782318973\n",
      "epoch=11,\t lr=0.001,\t loss=0.011271880081455623\n",
      "epoch=12,\t lr=0.001,\t loss=0.045457181217664455\n",
      "epoch=13,\t lr=0.001,\t loss=0.011044149509065652\n",
      "epoch=14,\t lr=0.001,\t loss=0.012455237144604326\n",
      "epoch=15,\t lr=0.001,\t loss=0.008566065243212507\n",
      "Time elapsed:5.984308958053589\n"
     ]
    }
   ],
   "source": [
    "baseMLP = BaseMLP(3*128*64, 128, 64, 32, 2).to(device)\n",
    "# bs=32  @ adjust batchsize in dataloader \n",
    "lr = 0.001\n",
    "opt = torch.optim.Adam(baseMLP.parameters(), lr=lr)\n",
    "epoch = default_epoch\n",
    "loss_class = nn.CrossEntropyLoss()\n",
    "\n",
    "result_base_mlp = init_list()\n",
    "train(epoch, train_dataloader, test_dataloader, baseMLP, lr, loss_class, opt, result_base_mlp)"
   ]
  },
  {
   "cell_type": "code",
   "execution_count": 328,
   "id": "1921e6fc",
   "metadata": {},
   "outputs": [],
   "source": [
    "eval(baseMLP, test_dataloader)"
   ]
  },
  {
   "cell_type": "code",
   "execution_count": 329,
   "id": "a40248ca",
   "metadata": {},
   "outputs": [
    {
     "name": "stdout",
     "output_type": "stream",
     "text": [
      "epoch=1,\t lr=0.0001,\t loss=1.5920462821211134\n",
      "epoch=2,\t lr=0.0001,\t loss=0.319140208193234\n",
      "epoch=3,\t lr=0.0001,\t loss=0.13907974500741277\n",
      "epoch=4,\t lr=0.0001,\t loss=0.0995343783072063\n",
      "epoch=5,\t lr=0.0001,\t loss=0.046088796561317785\n",
      "epoch=6,\t lr=0.0001,\t loss=0.030148733831343373\n",
      "epoch=7,\t lr=0.0001,\t loss=0.036891329296798045\n",
      "epoch=8,\t lr=0.0001,\t loss=0.019140137043515488\n",
      "epoch=9,\t lr=0.0001,\t loss=0.015131429908797145\n",
      "epoch=10,\t lr=0.0001,\t loss=0.012913901757981096\n",
      "epoch=11,\t lr=0.0001,\t loss=0.008147735078819097\n",
      "epoch=12,\t lr=0.0001,\t loss=0.017018393110317578\n",
      "epoch=13,\t lr=0.0001,\t loss=0.008529730152804404\n",
      "epoch=14,\t lr=0.0001,\t loss=0.0065532092050749014\n",
      "epoch=15,\t lr=0.0001,\t loss=0.019121363297121465\n",
      "Time elapsed:786.527293920517\n"
     ]
    }
   ],
   "source": [
    "# Alexnet\n",
    "import gc\n",
    "gc.collect()\n",
    "alexnet = models.alexnet().to(device)  #lowest val loss 0.55\n",
    "lr = 0.0001 \n",
    "opt = torch.optim.Adam(alexnet.parameters(), lr=lr)\n",
    "epoch = 15\n",
    "loss_class = nn.CrossEntropyLoss()\n",
    "\n",
    "result_alexnet = init_list()\n",
    "train(epoch, train_dataloader,test_dataloader, alexnet, lr, loss_class, opt, result_alexnet)"
   ]
  },
  {
   "cell_type": "code",
   "execution_count": 330,
   "id": "dd9b2bf6",
   "metadata": {},
   "outputs": [],
   "source": [
    "eval(alexnet, test_dataloader)"
   ]
  },
  {
   "cell_type": "code",
   "execution_count": 331,
   "id": "f9669f2d",
   "metadata": {},
   "outputs": [
    {
     "name": "stdout",
     "output_type": "stream",
     "text": [
      "epoch=1,\t lr=0.0001,\t loss=1.0568401149341038\n",
      "epoch=2,\t lr=0.0001,\t loss=0.17224921344646385\n",
      "epoch=3,\t lr=0.0001,\t loss=0.10532416634793793\n",
      "epoch=4,\t lr=0.0001,\t loss=0.09331347348966769\n",
      "epoch=5,\t lr=0.0001,\t loss=0.06946042478084564\n",
      "epoch=6,\t lr=0.0001,\t loss=0.03904931735846081\n",
      "epoch=7,\t lr=0.0001,\t loss=0.036543731501192916\n",
      "epoch=8,\t lr=0.0001,\t loss=0.030032839126943146\n",
      "epoch=9,\t lr=0.0001,\t loss=0.007830501722076276\n",
      "epoch=10,\t lr=0.0001,\t loss=0.01770469584818264\n",
      "epoch=11,\t lr=0.0001,\t loss=0.02693287053095576\n",
      "epoch=12,\t lr=0.0001,\t loss=0.013068427818195363\n",
      "epoch=13,\t lr=0.0001,\t loss=0.0042694476819763495\n",
      "epoch=14,\t lr=0.0001,\t loss=0.010192032819733347\n",
      "epoch=15,\t lr=0.0001,\t loss=0.019210977135142977\n",
      "Time elapsed:17545.723383903503\n"
     ]
    }
   ],
   "source": [
    "# vgg16\n",
    "vgg16 = models.vgg16().to(device)\n",
    "lr = 0.0001\n",
    "opt = torch.optim.Adam(vgg16.parameters(), lr=lr)\n",
    "epoch = default_epoch\n",
    "loss_class = nn.CrossEntropyLoss()\n",
    "\n",
    "\n",
    "result_vgg16 = init_list()\n",
    "train(epoch, train_dataloader, test_dataloader, vgg16, lr, loss_class, opt, result_vgg16)"
   ]
  },
  {
   "cell_type": "code",
   "execution_count": 332,
   "id": "846653cd",
   "metadata": {},
   "outputs": [],
   "source": [
    "eval(vgg16, test_dataloader)"
   ]
  },
  {
   "cell_type": "code",
   "execution_count": 333,
   "id": "33a8a15b",
   "metadata": {},
   "outputs": [
    {
     "name": "stdout",
     "output_type": "stream",
     "text": [
      "epoch=1,\t lr=0.0003,\t loss=1.7359138607978821\n",
      "epoch=2,\t lr=0.0003,\t loss=0.28551848999091556\n",
      "epoch=3,\t lr=0.0003,\t loss=0.14619649701884815\n",
      "epoch=4,\t lr=0.0003,\t loss=0.10297733076981136\n",
      "epoch=5,\t lr=0.0003,\t loss=0.10468991048234914\n",
      "epoch=6,\t lr=0.0003,\t loss=0.06339680519221084\n",
      "epoch=7,\t lr=0.0003,\t loss=0.03554920267446765\n",
      "epoch=8,\t lr=0.0003,\t loss=0.04247004744413841\n",
      "epoch=9,\t lr=0.0003,\t loss=0.037702596026273176\n",
      "epoch=10,\t lr=0.0003,\t loss=0.04483267494111455\n",
      "epoch=11,\t lr=0.0003,\t loss=0.03418930005947394\n",
      "epoch=12,\t lr=0.0003,\t loss=0.015805522515438496\n",
      "epoch=13,\t lr=0.0003,\t loss=0.027326411555155312\n",
      "epoch=14,\t lr=0.0003,\t loss=0.01659252300160006\n",
      "epoch=15,\t lr=0.0003,\t loss=0.005616819642559026\n",
      "Time elapsed:212.7490518093109\n"
     ]
    }
   ],
   "source": [
    "# Squeezenet1_1\n",
    "import gc\n",
    "gc.collect()\n",
    "\n",
    "squeezenet1_1 = models.squeezenet1_1().to(device)\n",
    "lr = 0.0003\n",
    "opt = torch.optim.Adam(squeezenet1_1.parameters(), lr=lr)\n",
    "epoch = default_epoch\n",
    "loss_class = nn.CrossEntropyLoss()\n",
    "\n",
    "result_squeezenet1_1 = init_list()\n",
    "train(epoch, train_dataloader,test_dataloader, squeezenet1_1, lr, loss_class, opt, result_squeezenet1_1)"
   ]
  },
  {
   "cell_type": "code",
   "execution_count": 334,
   "id": "3bbb0e1f",
   "metadata": {},
   "outputs": [],
   "source": [
    "eval(squeezenet1_1, test_dataloader)"
   ]
  },
  {
   "cell_type": "code",
   "execution_count": 335,
   "id": "71916313",
   "metadata": {},
   "outputs": [],
   "source": [
    "def comparison_graph(title, y_label, x_label, results, result_index, labels, markers): \n",
    "\t# plot\n",
    "\tfig, ax = plt.subplots()\n",
    "\tfig.set_size_inches(10, 5)\n",
    "\tmax_x = 0\n",
    "\tfor i in range(len(labels)): \n",
    "\t\t# make epoc list\n",
    "\t\tx = array = np.arange(1, len(results[i][result_index])+1)\n",
    "\t\tmax_x = max(max_x, len(results[i][result_index]))\n",
    "\t\tax.plot(x, results[i][result_index], linewidth=1.0, label=labels[i], marker = markers[i])\n",
    "\tax.legend(bbox_to_anchor=(1.05, 1), loc='upper left', borderaxespad=0.)\n",
    "\tax.set(xlabel= x_label, ylabel= y_label, title=title, xlim=(0, max_x + 0.5), xticks=np.arange(1, max_x + 1))\n",
    "\tplt.show()"
   ]
  },
  {
   "cell_type": "code",
   "execution_count": 336,
   "id": "81d86cae",
   "metadata": {},
   "outputs": [
    {
     "data": {
      "image/png": "[encoded data removed]",
      "text/plain": [
       "<Figure size 720x360 with 1 Axes>"
      ]
     },
     "metadata": {
      "needs_background": "light"
     },
     "output_type": "display_data"
    }
   ],
   "source": [
    "results = [result_base_cnn, result_base_mlp, result_alexnet, result_vgg16, result_squeezenet1_1]\n",
    "labels = [\"base CNN\", \"base MLP\", \"Alexnet\", \"VGG16\", \"Squeezenet_1.1\"]\n",
    "markers = [\".\",\"v\",\"p\",\"*\",\"D\"] \n",
    "\n",
    "comparison_graph(\"Accuracy Over-time\", \"Accuracy\", \"Epoch\", results, 4, labels, markers)"
   ]
  },
  {
   "cell_type": "code",
   "execution_count": 337,
   "id": "3ae673a3",
   "metadata": {},
   "outputs": [
    {
     "name": "stdout",
     "output_type": "stream",
     "text": [
      "baseCNN\n",
      "baseMLP\n",
      "AlexNet\n",
      "VGG16\n",
      "Squeezenetv1.1\n"
     ]
    }
   ],
   "source": [
    "final_result_baseCNN = init_list();\n",
    "final_result_baseMLP = init_list();\n",
    "final_result_alexnet = init_list();\n",
    "final_result_vgg16 = init_list();\n",
    "final_result_squeezenet1_1 = init_list();\n",
    "\n",
    "print('baseCNN')\n",
    "start = time.time()\n",
    "eval(baseCNN, test_dataloader, final_result_baseCNN)\n",
    "final_result_baseCNN.append((time.time()-start)/ len(test_data))\n",
    "\n",
    "start = time.time()\n",
    "print('baseMLP')\n",
    "eval(baseMLP, test_dataloader, final_result_baseMLP)\n",
    "final_result_baseMLP.append((time.time()-start)/ len(test_data))\n",
    "\n",
    "start = time.time()\n",
    "print('AlexNet')\n",
    "eval(alexnet, test_dataloader, final_result_alexnet)\n",
    "final_result_alexnet.append((time.time()-start)/ len(test_data))\n",
    "\n",
    "start = time.time()\n",
    "print('VGG16')\n",
    "eval(vgg16, test_dataloader, final_result_vgg16)\n",
    "final_result_vgg16.append((time.time()-start)/ len(test_data))\n",
    "\n",
    "start = time.time()\n",
    "print('Squeezenetv1.1')\n",
    "eval(squeezenet1_1, test_dataloader, final_result_squeezenet1_1)\n",
    "final_result_squeezenet1_1.append((time.time()-start)/ len(test_data))"
   ]
  },
  {
   "cell_type": "code",
   "execution_count": 338,
   "id": "edc40040",
   "metadata": {},
   "outputs": [],
   "source": [
    "def bar_graph(title, x_label, y_label, results, result_index, labels): \n",
    "    # plot\n",
    "    fig, ax = plt.subplots()\n",
    "    fig.set_size_inches(9, 4)\n",
    "    max_x = 0\n",
    "    values = []\n",
    "    for i in range(len(labels)): \n",
    "        values.append(results[i][result_index])\n",
    "\n",
    "    ax.barh(labels, values)\n",
    "    ax.set(xlabel= x_label, ylabel= y_label, title=title)\n",
    "    plt.show()"
   ]
  },
  {
   "cell_type": "code",
   "execution_count": 339,
   "id": "dc528d5a",
   "metadata": {},
   "outputs": [],
   "source": [
    "final_results = [final_result_baseCNN, final_result_baseMLP, final_result_alexnet,\n",
    "           final_result_vgg16, final_result_squeezenet1_1]\n",
    "\n",
    "final_labels = [\"base CNN\", \"base MLP\", \"Alexnet\", \"VGG16\", \"Squeezenet_1.1\"]"
   ]
  },
  {
   "cell_type": "code",
   "execution_count": 340,
   "id": "b3665b7b",
   "metadata": {},
   "outputs": [
    {
     "data": {
      "image/png": "[encoded data removed]",
      "text/plain": [
       "<Figure size 648x288 with 1 Axes>"
      ]
     },
     "metadata": {
      "needs_background": "light"
     },
     "output_type": "display_data"
    }
   ],
   "source": [
    "bar_graph(\"Test Time\", \"second taken per image - Lower is better\", \"\", final_results, 8, final_labels)"
   ]
  },
  {
   "cell_type": "code",
   "execution_count": 343,
   "id": "7cdde4f6",
   "metadata": {},
   "outputs": [
    {
     "name": "stdout",
     "output_type": "stream",
     "text": [
      "tensor([0.])\n"
     ]
    }
   ],
   "source": [
    "test_img_path = 'bottle.jpeg'\n",
    "test_img = pil_loader('data/Actual/' + test_img_path)\n",
    "test_img = transforms.Resize(128)(test_img)\n",
    "test_img = transforms.ToTensor()(test_img)\n",
    "test_img = transform(test_img)\n",
    "\n",
    "prediction = torch.zeros(0).cpu()\n",
    "\n",
    "data = test_img\n",
    "probs = baseMLP(data)\n",
    "probs = nn.Softmax(dim=1)(probs)\n",
    "pred = torch.argmax(probs, dim=1)\n",
    "\n",
    "prediction = torch.cat((prediction, pred),dim=0)\n",
    "        \n",
    "prediction= prediction.detach()\n",
    "\n",
    "print(prediction)"
   ]
  },
  {
   "cell_type": "code",
   "execution_count": null,
   "id": "3fc6497c",
   "metadata": {},
   "outputs": [],
   "source": [
    "# NoBottle\n",
    "onlyfiles_random = [f for f in os.listdir('data/Random')]\n",
    "print(type(onlyfiles_random))\n",
    "print(len(onlyfiles_random))\n",
    "\n",
    "samples_random = []\n",
    "for i, filenames in enumerate(onlyfiles_random):\n",
    "    samples_random.append([filenames, 0])             # Assign label of 1 when there is bottle\n",
    "\n",
    "np.random.seed(3)\n",
    "p = np.random.permutation(len(samples_random))\n",
    "samples_bottle = np.array(samples_random)\n",
    "\n",
    "print(type(samples_bottle))\n",
    "print(len(samples_bottle))\n",
    "\n",
    "test_data_bottle = samples_bottle[p[:304]][:,0]\n",
    "test_labels_bottle = samples_bottle[p[:304]][:,1]\n",
    "train_data_bottle = samples_bottle[p[304:]][:,0]\n",
    "train_labels_bottle = samples_bottle[p[304:]][:,1]\n",
    "\n",
    "print(len(test_data_bottle))\n",
    "print(len(train_data_bottle))\n",
    "\n",
    "print(test_data_bottle[0])\n",
    "\n",
    "def getBottle(train, index):\n",
    "    if train:\n",
    "        img_path, label = train_data_bottle[index], train_labels_bottle[index]\n",
    "    else:\n",
    "        img_path, label = test_data_bottle[index], test_labels_bottle[index]\n",
    "\n",
    "    img = pil_loader('data/Bottle/' + img_path)\n",
    "    \n",
    "    #img = transforms.Resize(32)(img)\n",
    "    img = transforms.Resize(128)(img)\n",
    "    #img = transforms.Resize(64)(img)\n",
    "    img = transforms.ToTensor()(img)\n",
    "    img = transform(img)\n",
    "\n",
    "    return img, label"
   ]
  }
 ],
 "metadata": {
  "kernelspec": {
   "display_name": "Python 3",
   "language": "python",
   "name": "python3"
  },
  "language_info": {
   "codemirror_mode": {
    "name": "ipython",
    "version": 3
   },
   "file_extension": ".py",
   "mimetype": "text/x-python",
   "name": "python",
   "nbconvert_exporter": "python",
   "pygments_lexer": "ipython3",
   "version": "3.8.13"
  }
 },
 "nbformat": 4,
 "nbformat_minor": 5
}

{
 "cells": [
  {
   "cell_type": "markdown",
   "id": "417a44b1",
   "metadata": {},
   "source": [
    "## Goals\n",
    "### Primary Goal: Identify whether there is a bottle\n",
    "### Stretched Goal: Identify what type of bottle it is"
   ]
  },
  {
   "cell_type": "code",
   "execution_count": 79,
   "id": "d490a4bc",
   "metadata": {},
   "outputs": [],
   "source": [
    "from utils import *\n",
    "from random import randint\n",
    "import torch\n",
    "import torch.nn as nn\n",
    "import numpy as np\n",
    "from torchvision import transforms\n",
    "import time\n",
    "import cv2\n",
    "import matplotlib.pyplot as plt\n",
    "import torchvision.models as models\n",
    "import tensorflow as tf\n",
    "import os\n",
    "import pandas as pd\n",
    "from fastai.vision import *\n",
    "from pathlib import Path\n",
    "from PIL import Image"
   ]
  },
  {
   "cell_type": "code",
   "execution_count": 80,
   "id": "c557da36",
   "metadata": {},
   "outputs": [],
   "source": [
    "device = torch.device(\"cuda\") if torch.cuda.is_available() else torch.device(\"cpu\")\n",
    "\n",
    "# device = torch.device(\"cpu\") \n",
    "default_epoch = 15"
   ]
  },
  {
   "cell_type": "code",
   "execution_count": 81,
   "id": "4c51d0cf",
   "metadata": {},
   "outputs": [],
   "source": [
    "def pil_loader(path):\n",
    "    with open(path, 'rb') as f:\n",
    "        img = Image.open(f)\n",
    "        return img.convert('RGB')\n",
    "    \n",
    "def show(X):\n",
    "    plt.imshow(np.transpose(X.numpy(), (1,2,0)))\n",
    "    plt.show()"
   ]
  },
  {
   "cell_type": "code",
   "execution_count": 211,
   "id": "a2cb4003",
   "metadata": {},
   "outputs": [],
   "source": [
    "# Normalize and resize the images\n",
    "transform = torch.nn.Sequential(\n",
    "    transforms.Resize((128,160)),\n",
    "    transforms.Normalize((0.3956, 0.4666, 0.4518), (0.1319, 0.1413, 0.1377))    \n",
    ")  # Normalised values obtained from training dataset."
   ]
  },
  {
   "cell_type": "code",
   "execution_count": 241,
   "id": "1b2891b2",
   "metadata": {},
   "outputs": [],
   "source": [
    "# Normalize and resize the images\n",
    "transform = torch.nn.Sequential(\n",
    "    transforms.Resize((128,64)),\n",
    "    transforms.Normalize((0.3956, 0.4666, 0.4518), (0.1319, 0.1413, 0.1377))    \n",
    ")  # Normalised values obtained from training dataset."
   ]
  },
  {
   "cell_type": "code",
   "execution_count": 242,
   "id": "503fbd93",
   "metadata": {},
   "outputs": [
    {
     "name": "stdout",
     "output_type": "stream",
     "text": [
      "<class 'list'>\n",
      "1014\n",
      "<class 'numpy.ndarray'>\n",
      "1014\n",
      "304\n",
      "710\n",
      "image2020-02-18 00_06_11.733850.jpg\n"
     ]
    }
   ],
   "source": [
    "# Bottle\n",
    "onlyfiles_bottle = [f for f in os.listdir('data/Bottle')]\n",
    "print(type(onlyfiles_bottle))\n",
    "print(len(onlyfiles_bottle))\n",
    "\n",
    "samples_bottle = []\n",
    "for i, filenames in enumerate(onlyfiles_bottle):\n",
    "    samples_bottle.append([filenames, 1])             # Assign label of 1 when there is bottle\n",
    "\n",
    "np.random.seed(3)\n",
    "p = np.random.permutation(len(samples_bottle))\n",
    "samples_bottle = np.array(samples_bottle)\n",
    "\n",
    "print(type(samples_bottle))\n",
    "print(len(samples_bottle))\n",
    "\n",
    "test_data_bottle = samples_bottle[p[:304]][:,0]\n",
    "test_labels_bottle = samples_bottle[p[:304]][:,1]\n",
    "train_data_bottle = samples_bottle[p[304:]][:,0]\n",
    "train_labels_bottle = samples_bottle[p[304:]][:,1]\n",
    "\n",
    "print(len(test_data_bottle))\n",
    "print(len(train_data_bottle))\n",
    "\n",
    "print(test_data_bottle[0])\n",
    "\n",
    "#img = pil_loader('data/Bottle/' + train_data_bottle[0])\n",
    "#print(img)\n",
    "#img = transforms.Resize(128)(img)\n",
    "#img = transforms.ToTensor()(img)\n",
    "#print(img.size())\n",
    "#img = pil_loader('data/Bottle/' + train_data_bottle[1])\n",
    "#print(img)\n",
    "#img = transforms.Resize(128)(img)\n",
    "#img = transforms.ToTensor()(img)\n",
    "#print(img.size())\n",
    "\n",
    "def getBottle(train, index):\n",
    "    if train:\n",
    "        img_path, label = train_data_bottle[index], train_labels_bottle[index]\n",
    "    else:\n",
    "        img_path, label = test_data_bottle[index], test_labels_bottle[index]\n",
    "\n",
    "    img = pil_loader('data/Bottle/' + img_path)\n",
    "    \n",
    "    #img = transforms.Resize(32)(img)\n",
    "    img = transforms.Resize(128)(img)\n",
    "    #img = transforms.Resize(64)(img)\n",
    "    img = transforms.ToTensor()(img)\n",
    "    img = transform(img)\n",
    "\n",
    "    return img, label"
   ]
  },
  {
   "cell_type": "code",
   "execution_count": 243,
   "id": "370906d4",
   "metadata": {},
   "outputs": [
    {
     "name": "stdout",
     "output_type": "stream",
     "text": [
      "61\n",
      "<class 'numpy.ndarray'>\n",
      "61\n",
      "304\n",
      "710\n"
     ]
    }
   ],
   "source": [
    "# No bottle\n",
    "onlyfiles_nobottle = [f for f in os.listdir('data/NoBottle')]\n",
    "print(len(onlyfiles_nobottle))\n",
    "\n",
    "samples_nobottle = []\n",
    "for i, filenames in enumerate(onlyfiles_nobottle):\n",
    "    samples_nobottle.append([filenames, 0])             # Assign label of 1 when there is bottle\n",
    "\n",
    "np.random.seed(3)\n",
    "p = np.random.permutation(len(samples_nobottle))\n",
    "samples_nobottle = np.array(samples_nobottle)\n",
    "\n",
    "print(type(samples_nobottle))\n",
    "print(len(samples_nobottle))\n",
    "\n",
    "test_data_nobottle = samples_nobottle[p[:18]][:,0]\n",
    "test_labels_nobottle = samples_nobottle[p[:18]][:,1]\n",
    "train_data_nobottle = samples_nobottle[p[18:]][:,0]\n",
    "train_labels_nobottle = samples_nobottle[p[18:]][:,1]\n",
    "\n",
    "print(len(test_data_bottle))\n",
    "print(len(train_data_bottle))\n",
    "\n",
    "def getNoBottle(train, index):\n",
    "    if train:\n",
    "        img_path, label = train_data_nobottle[index], train_labels_nobottle[index]\n",
    "    else:\n",
    "        img_path, label = test_data_nobottle[index], test_labels_nobottle[index]\n",
    "\n",
    "    img = pil_loader('data/NoBottle/' + img_path)\n",
    "    #img = transforms.Resize(32)(img)\n",
    "    img = transforms.Resize(128)(img)\n",
    "    #img = transforms.Resize(64)(img)\n",
    "    img = transforms.ToTensor()(img)\n",
    "    img = transform(img)\n",
    "\n",
    "    return img, label"
   ]
  },
  {
   "cell_type": "code",
   "execution_count": 244,
   "id": "e6f60d09",
   "metadata": {},
   "outputs": [
    {
     "name": "stderr",
     "output_type": "stream",
     "text": [
      "Clipping input data to the valid range for imshow with RGB data ([0..1] for floats or [0..255] for integers).\n"
     ]
    },
    {
     "name": "stdout",
     "output_type": "stream",
     "text": [
      "Bottle Train Image\n"
     ]
    },
    {
     "data": {
      "image/png": "[encoded data removed]",
      "text/plain": [
       "<Figure size 432x288 with 1 Axes>"
      ]
     },
     "metadata": {
      "needs_background": "light"
     },
     "output_type": "display_data"
    },
    {
     "name": "stderr",
     "output_type": "stream",
     "text": [
      "Clipping input data to the valid range for imshow with RGB data ([0..1] for floats or [0..255] for integers).\n"
     ]
    },
    {
     "name": "stdout",
     "output_type": "stream",
     "text": [
      "(tensor([[[-0.1306, -0.0702, -0.0219,  ..., -0.3151, -0.3531, -0.4177],\n",
      "         [-0.0712, -0.0558,  0.0078,  ..., -0.2895, -0.3234, -0.4228],\n",
      "         [-0.0312, -0.0261,  0.0375,  ..., -0.2598, -0.2937, -0.3931],\n",
      "         ...,\n",
      "         [-0.0363, -0.0117,  0.0715,  ..., -0.6166, -0.6063, -0.6607],\n",
      "         [-0.0661, -0.0414,  0.0417,  ..., -0.6166, -0.6063, -0.6607],\n",
      "         [-0.0958, -0.0712,  0.0036,  ..., -0.6463, -0.6361, -0.6607]],\n",
      "\n",
      "        [[ 0.2359,  0.2923,  0.3374,  ...,  0.1115,  0.0837,  0.0235],\n",
      "         [ 0.2914,  0.3058,  0.3652,  ...,  0.1353,  0.1115,  0.0187],\n",
      "         [ 0.3287,  0.3335,  0.3929,  ...,  0.1631,  0.1392,  0.0464],\n",
      "         ...,\n",
      "         [ 0.1575,  0.1804,  0.2225,  ..., -0.3048, -0.2636, -0.3144],\n",
      "         [ 0.1297,  0.1527,  0.1709,  ..., -0.3048, -0.2636, -0.3144],\n",
      "         [ 0.1019,  0.1249,  0.1115,  ..., -0.3087, -0.2914, -0.3144]],\n",
      "\n",
      "        [[ 0.2072,  0.2650,  0.3113,  ...,  0.0265, -0.0060, -0.0678],\n",
      "         [ 0.2642,  0.2788,  0.3398,  ...,  0.0510,  0.0225, -0.0727],\n",
      "         [ 0.3024,  0.3073,  0.3683,  ...,  0.0795,  0.0510, -0.0442],\n",
      "         ...,\n",
      "         [ 0.1551,  0.1787,  0.2259,  ..., -0.3557, -0.3054, -0.2721],\n",
      "         [ 0.1267,  0.1502,  0.1974,  ..., -0.3557, -0.3054, -0.2721],\n",
      "         [ 0.0982,  0.1218,  0.1364,  ..., -0.3597, -0.3339, -0.2721]]]), '1')\n",
      "<class 'tuple'>\n",
      "No Bottle Train Image\n"
     ]
    },
    {
     "data": {
      "image/png": "[encoded data removed]",
      "text/plain": [
       "<Figure size 432x288 with 1 Axes>"
      ]
     },
     "metadata": {
      "needs_background": "light"
     },
     "output_type": "display_data"
    }
   ],
   "source": [
    "print(\"Bottle Train Image\")\n",
    "bottle_train_img = getBottle(train=True, index=0)\n",
    "show(bottle_train_img[0])\n",
    "print(bottle_train_img)\n",
    "print(type(bottle_train_img))\n",
    "\n",
    "print(\"No Bottle Train Image\")\n",
    "nobottle_train_img = getNoBottle(train=True, index=0)\n",
    "show(nobottle_train_img[0])"
   ]
  },
  {
   "cell_type": "code",
   "execution_count": 245,
   "id": "80b327e5",
   "metadata": {},
   "outputs": [
    {
     "name": "stdout",
     "output_type": "stream",
     "text": [
      "753\n",
      "322\n",
      "<class 'tuple'>\n",
      "<class 'list'>\n"
     ]
    }
   ],
   "source": [
    "#bottle_train_data = getNoBottle(train=True, index=i)\n",
    "train_data = []\n",
    "for i in range(710):\n",
    "    train_data.append(getBottle(train=True, index=i))\n",
    "for i in range(43):\n",
    "    train_data.append(getNoBottle(train=True, index=i))\n",
    "print(len(train_data))  \n",
    "\n",
    "test_data = []\n",
    "for i in range(304):\n",
    "    test_data.append(getBottle(train=False, index=i))\n",
    "for i in range(18):\n",
    "    test_data.append(getNoBottle(train=False, index=i))\n",
    "print(len(test_data))\n",
    "\n",
    "print(type(getBottle(train=True, index=0)))\n",
    "print(type(train_data))"
   ]
  },
  {
   "cell_type": "code",
   "execution_count": 246,
   "id": "13552f50",
   "metadata": {},
   "outputs": [
    {
     "name": "stdout",
     "output_type": "stream",
     "text": [
      "torch.Size([3, 128, 64])\n",
      "torch.Size([3, 128, 64])\n"
     ]
    }
   ],
   "source": [
    "print(train_data[0][0].size())\n",
    "print(train_data[1][0].size())"
   ]
  },
  {
   "cell_type": "code",
   "execution_count": 247,
   "id": "013d45ba",
   "metadata": {},
   "outputs": [],
   "source": [
    "# Load into dataloader for easier batching\n",
    "bs = 64\n",
    "train_dataloader = torch.utils.data.DataLoader(train_data, batch_size=bs, shuffle=True)\n",
    "test_dataloader = torch.utils.data.DataLoader(test_data, batch_size=bs)"
   ]
  },
  {
   "cell_type": "code",
   "execution_count": 190,
   "id": "584c178a",
   "metadata": {},
   "outputs": [
    {
     "name": "stdout",
     "output_type": "stream",
     "text": [
      "tensor([0.3956, 0.4666, 0.4518])\n",
      "tensor([0.1319, 0.1413, 0.1377])\n"
     ]
    }
   ],
   "source": [
    "# Getting the mean and std across all three channels for normalisation. Run only once.\n",
    "means = []\n",
    "stds = []\n",
    "for i in train_data:\n",
    "    means.append((i[0]))\n",
    "    stds.append(i[0])\n",
    "test =  torch.cat(means)\n",
    "test = test.view(-1,3,128,170)\n",
    "print(test.mean(axis=(0,2,3)))\n",
    "print(test.std(axis=(0,2,3)))"
   ]
  },
  {
   "cell_type": "code",
   "execution_count": 249,
   "id": "a8570d37",
   "metadata": {},
   "outputs": [],
   "source": [
    "# MLP\n",
    "class BaseMLP(nn.Module):\n",
    "    def __init__(self, input_size, hidden_size1, hidden_size2, hidden_size3, output_size):\n",
    "        super(BaseMLP, self).__init__()\n",
    "        self.layer1 = nn.Linear(input_size, hidden_size1)\n",
    "        self.layer2 = nn.Linear(hidden_size1, hidden_size2)\n",
    "        self.layer3 = nn.Linear(hidden_size2, hidden_size3)\n",
    "        self.layer4 = nn.Linear(hidden_size3, output_size)\n",
    "        \n",
    "    def forward(self, x):\n",
    "        x = x.view(-1,24576)\n",
    "        x = self.layer1(x)\n",
    "        x = torch.relu(x)\n",
    "        x = self.layer2(x)\n",
    "        x = torch.relu(x)\n",
    "        x = self.layer3(x)\n",
    "        x = torch.relu(x)\n",
    "        x = self.layer4(x)\n",
    "        return x\n",
    "    \n",
    "# CNN\n",
    "class BaseCNN(nn.Module):\n",
    "    def __init__(self, input_size, hidden_size, output_size):\n",
    "        super(BaseCNN, self).__init__()\n",
    "        self.output_size = output_size\n",
    "        self.conv1 = nn.Conv2d(input_size, hidden_size, kernel_size = 3, stride = 2, padding = 1) #3*128*64 -> 8*64*32\n",
    "        self.conv2 = nn.Conv2d(hidden_size, output_size, kernel_size = 3,stride =2, padding = 1) #8*64*32 -> 16*32*16\n",
    "        self.linearlayer1 = nn.Linear(output_size*32*16, 2)                                     #16*32*16 -> 1*8192\n",
    "        \n",
    "    def forward(self, x):\n",
    "        x = self.conv1(x)\n",
    "        x = torch.relu(x)\n",
    "        x = self.conv2(x)\n",
    "        x = torch.relu(x)\n",
    "        x = x.view(-1, self.output_size*32*16)\n",
    "        x = self.linearlayer1(x)\n",
    "        return x\n",
    "        \n",
    "#basemlp = BaseMLP(3*128*64, 128, 64, 32, 2)\n",
    "#basecnn = BaseCNN(3, 8, 16)"
   ]
  },
  {
   "cell_type": "code",
   "execution_count": 250,
   "id": "feec06da",
   "metadata": {},
   "outputs": [],
   "source": [
    "def init_list():\n",
    "    \"\"\"\n",
    "    init an empty list of list for data storage\"\"\"\n",
    "    lst = [] \n",
    "    for i in range(8):\n",
    "        lst.append([]) \n",
    "    return lst"
   ]
  },
  {
   "cell_type": "code",
   "execution_count": 251,
   "id": "5cab9230",
   "metadata": {},
   "outputs": [],
   "source": [
    "# Training function\n",
    "def train(epochs, dataloader, testdataloader, model, lr, loss_class, opt, out_result = init_list()):\n",
    "    start = time.time()\n",
    "    for i in range(epochs):\n",
    "        validation_loss = 0.0\n",
    "        running_loss = 0.0\n",
    "        num_batches = 0\n",
    "        for batch_idx, [data, label] in enumerate(dataloader):\n",
    "            opt.zero_grad()\n",
    "            label = [int(x) for x in label]\n",
    "            label = torch.LongTensor(label)\n",
    "            if str(device.type) == \"cuda\" :\n",
    "                data, label = data.cuda(), label.cuda()\n",
    "            else :\n",
    "                data, label = data.cpu(), label.cpu()     \n",
    "                \n",
    "            scores = model(data)\n",
    "            loss = loss_class(scores, label)\n",
    "            loss.backward()\n",
    "            opt.step()\n",
    "            \n",
    "\n",
    "            running_loss += loss.detach().item()\n",
    "            num_batches += 1\n",
    "            \n",
    "        total_loss = running_loss/num_batches\n",
    "        print(f'epoch={i + 1},\\t lr={lr},\\t loss={total_loss}')\n",
    "        \n",
    "        eval(model, testdataloader, out_result)\n",
    "    print(f'Time elapsed:{time.time()-start}')\n",
    "    out_result.append(time.time()-start)"
   ]
  },
  {
   "cell_type": "code",
   "execution_count": 258,
   "id": "849b387b",
   "metadata": {},
   "outputs": [],
   "source": [
    "# Testing code\n",
    "def eval(model, setloader, out_result = init_list()):\n",
    "    correct_count = 0\n",
    "    total_count = 0\n",
    "    \n",
    "    prediction = torch.zeros(0).cpu()\n",
    "    truth = torch.zeros(0).cpu()\n",
    "    \n",
    "#    if is_on_cuda :\n",
    "#        prediction = torch.zeros(0).cuda()\n",
    "#        truth = torch.zeros(0).cuda()\n",
    "    \n",
    "    for batch_idx, [data, label] in enumerate(setloader):\n",
    "        label = torch.LongTensor([int(x) for x in label])\n",
    "        if str(device.type) == \"cuda\" :\n",
    "            data, label = data.cuda(), label.cuda()\n",
    "            print(\"cuda is on\")\n",
    "        else :\n",
    "            data, label = data.cpu(), label.cpu()\n",
    "        \n",
    "        probs = model(data)\n",
    "        probs = nn.Softmax(dim=1)(probs)\n",
    "        pred = torch.argmax(probs, dim=1)\n",
    "        \n",
    "        # Result collection\n",
    "#         correct_count += torch.sum(label==pred).detach().item()\n",
    "#         total_count += len(data)\n",
    "        prediction = torch.cat((prediction, pred),dim=0)\n",
    "        truth = torch.cat((truth, label),dim=0)\n",
    "        #print(torch.sum(label==pred).detach().item())\n",
    "        \n",
    "    # Results calculation here\n",
    "    prediction, truth = prediction.detach(), truth.detach()\n",
    "    #display.metrics(prediction, truth)\n",
    "    calculate(prediction, truth, out_result)"
   ]
  },
  {
   "cell_type": "code",
   "execution_count": 259,
   "id": "59e63cae",
   "metadata": {},
   "outputs": [],
   "source": [
    "def calculate(prediction, truth, out):\n",
    "\t\"\"\"\n",
    "\tTakes in a tensor of predictions and a tensor of labels.\n",
    "\tStore tp, fp, tn, fn, acc, precision, recall ,f1 in this order.\"\"\"\n",
    "\tacc = torch.sum(prediction==truth).item() / len(prediction)\n",
    "\tconfusion_vector = prediction/truth\n",
    "\ttp = torch.sum(confusion_vector == 1).item()\n",
    "\tfp = torch.sum(confusion_vector == float('inf')).item()\n",
    "\ttn = torch.sum(torch.isnan(confusion_vector)).item()\n",
    "\tfn = torch.sum(confusion_vector == 0).item()\n",
    "\tprecision = 0 if (tp+fp) == 0 else tp/(tp+fp)\n",
    "\trecall = 0 if (tp+fn) == 0 else tp/(tp+fn)\n",
    "\tf1 = 0 if (precision+recall) == 0 else 2*precision*recall/(precision+recall)\n",
    "\tout[0].append(float(tp))\n",
    "\tout[1].append(float(fp))\n",
    "\tout[2].append(float(tn))\n",
    "\tout[3].append(float(fn))\n",
    "\tout[4].append(acc)\n",
    "\tout[5].append(precision)\n",
    "\tout[6].append(recall)\n",
    "\tout[7].append(f1)"
   ]
  },
  {
   "cell_type": "code",
   "execution_count": 260,
   "id": "f19033fb",
   "metadata": {},
   "outputs": [
    {
     "name": "stdout",
     "output_type": "stream",
     "text": [
      "epoch=1,\t lr=0.001,\t loss=0.2953152709330122\n",
      "epoch=2,\t lr=0.001,\t loss=0.1956911776214838\n",
      "epoch=3,\t lr=0.001,\t loss=0.15596800747637948\n",
      "epoch=4,\t lr=0.001,\t loss=0.11188746119538943\n",
      "epoch=5,\t lr=0.001,\t loss=0.08194595016539097\n",
      "epoch=6,\t lr=0.001,\t loss=0.04137804945154736\n",
      "epoch=7,\t lr=0.001,\t loss=0.02829113028322657\n",
      "epoch=8,\t lr=0.001,\t loss=0.016587927006185055\n",
      "epoch=9,\t lr=0.001,\t loss=0.011282738550410917\n",
      "epoch=10,\t lr=0.001,\t loss=0.011495022956902782\n",
      "epoch=11,\t lr=0.001,\t loss=0.00894011597847566\n",
      "epoch=12,\t lr=0.001,\t loss=0.006039235697244294\n",
      "epoch=13,\t lr=0.001,\t loss=0.007460334134520963\n",
      "epoch=14,\t lr=0.001,\t loss=0.005715990977478214\n",
      "epoch=15,\t lr=0.001,\t loss=0.003430854393324504\n",
      "Time elapsed:7.753291845321655\n"
     ]
    }
   ],
   "source": [
    "baseCNN = BaseCNN(3, 8, 16).to(device)    \n",
    "# bs=32  @ adjust batchsize in dataloader \n",
    "lr = 0.001\n",
    "opt = torch.optim.Adam(baseCNN.parameters(), lr=lr)\n",
    "epoch = default_epoch\n",
    "loss_class = nn.CrossEntropyLoss()\n",
    "\n",
    "result_base_cnn = init_list()\n",
    "train(epoch, train_dataloader, test_dataloader, baseCNN, lr, loss_class, opt, result_base_cnn)"
   ]
  },
  {
   "cell_type": "code",
   "execution_count": 265,
   "id": "2d539beb",
   "metadata": {},
   "outputs": [
    {
     "name": "stdout",
     "output_type": "stream",
     "text": [
      "[[304.0, 304.0, 304.0, 303.0, 304.0, 302.0, 299.0, 301.0, 302.0, 299.0, 301.0, 300.0, 299.0, 302.0, 301.0], [18.0, 18.0, 16.0, 14.0, 12.0, 6.0, 1.0, 1.0, 5.0, 1.0, 1.0, 1.0, 1.0, 2.0, 1.0], [0.0, 0.0, 2.0, 4.0, 6.0, 12.0, 17.0, 17.0, 13.0, 17.0, 17.0, 17.0, 17.0, 16.0, 17.0], [0.0, 0.0, 0.0, 1.0, 0.0, 2.0, 5.0, 3.0, 2.0, 5.0, 3.0, 4.0, 5.0, 2.0, 3.0], [0.9440993788819876, 0.9440993788819876, 0.9503105590062112, 0.953416149068323, 0.9627329192546584, 0.9751552795031055, 0.9813664596273292, 0.9875776397515528, 0.9782608695652174, 0.9813664596273292, 0.9875776397515528, 0.984472049689441, 0.9813664596273292, 0.9875776397515528, 0.9875776397515528], [0.9440993788819876, 0.9440993788819876, 0.95, 0.9558359621451105, 0.9620253164556962, 0.9805194805194806, 0.9966666666666667, 0.9966887417218543, 0.9837133550488599, 0.9966666666666667, 0.9966887417218543, 0.9966777408637874, 0.9966666666666667, 0.993421052631579, 0.9966887417218543], [1.0, 1.0, 1.0, 0.9967105263157895, 1.0, 0.993421052631579, 0.9835526315789473, 0.9901315789473685, 0.993421052631579, 0.9835526315789473, 0.9901315789473685, 0.9868421052631579, 0.9835526315789473, 0.993421052631579, 0.9901315789473685], [0.9712460063897763, 0.9712460063897763, 0.9743589743589743, 0.9758454106280193, 0.9806451612903226, 0.9869281045751634, 0.990066225165563, 0.9933993399339934, 0.9885433715220949, 0.990066225165563, 0.9933993399339934, 0.9917355371900826, 0.990066225165563, 0.993421052631579, 0.9933993399339934], 7.753353834152222]\n"
     ]
    }
   ],
   "source": [
    "eval(baseCNN, test_dataloader)"
   ]
  },
  {
   "cell_type": "code",
   "execution_count": 263,
   "id": "ed43abe0",
   "metadata": {},
   "outputs": [
    {
     "name": "stdout",
     "output_type": "stream",
     "text": [
      "epoch=1,\t lr=0.001,\t loss=0.2444029413163662\n",
      "epoch=2,\t lr=0.001,\t loss=0.07471078137556712\n",
      "epoch=3,\t lr=0.001,\t loss=0.03549433716883262\n",
      "epoch=4,\t lr=0.001,\t loss=0.021788535872474313\n",
      "epoch=5,\t lr=0.001,\t loss=0.017121899873018265\n",
      "epoch=6,\t lr=0.001,\t loss=0.014020125279785134\n",
      "epoch=7,\t lr=0.001,\t loss=0.016875517981437344\n",
      "epoch=8,\t lr=0.001,\t loss=0.020908113508388244\n",
      "epoch=9,\t lr=0.001,\t loss=0.003046897147820952\n",
      "epoch=10,\t lr=0.001,\t loss=0.0026773212763752476\n",
      "epoch=11,\t lr=0.001,\t loss=0.0033134724484019293\n",
      "epoch=12,\t lr=0.001,\t loss=0.008823794733568016\n",
      "epoch=13,\t lr=0.001,\t loss=0.04690275033802512\n",
      "epoch=14,\t lr=0.001,\t loss=0.008529382745715944\n",
      "epoch=15,\t lr=0.001,\t loss=0.0025045054717338644\n",
      "Time elapsed:2.0454280376434326\n"
     ]
    }
   ],
   "source": [
    "baseMLP = BaseMLP(3*128*64, 128, 64, 32, 2).to(device)\n",
    "# bs=32  @ adjust batchsize in dataloader \n",
    "lr = 0.001\n",
    "opt = torch.optim.Adam(baseMLP.parameters(), lr=lr)\n",
    "epoch = default_epoch\n",
    "loss_class = nn.CrossEntropyLoss()\n",
    "\n",
    "result_base_mlp = init_list()\n",
    "train(epoch, train_dataloader, test_dataloader, baseMLP, lr, loss_class, opt, result_base_mlp)"
   ]
  },
  {
   "cell_type": "code",
   "execution_count": 266,
   "id": "8ee7d084",
   "metadata": {},
   "outputs": [],
   "source": [
    "eval(baseMLP, test_dataloader)"
   ]
  },
  {
   "cell_type": "code",
   "execution_count": 261,
   "id": "02687be2",
   "metadata": {},
   "outputs": [
    {
     "name": "stdout",
     "output_type": "stream",
     "text": [
      "epoch=1,\t lr=0.0001,\t loss=2.804094694089102\n",
      "epoch=2,\t lr=0.0001,\t loss=0.39843233674764633\n",
      "epoch=3,\t lr=0.0001,\t loss=0.3025803280373414\n",
      "epoch=4,\t lr=0.0001,\t loss=0.23486307884256044\n",
      "epoch=5,\t lr=0.0001,\t loss=0.2173557554682096\n",
      "epoch=6,\t lr=0.0001,\t loss=0.19861302462716898\n",
      "epoch=7,\t lr=0.0001,\t loss=0.1772811207920313\n",
      "epoch=8,\t lr=0.0001,\t loss=0.15880474944909415\n",
      "epoch=9,\t lr=0.0001,\t loss=0.14106165741880736\n",
      "epoch=10,\t lr=0.0001,\t loss=0.11954347851375739\n",
      "epoch=11,\t lr=0.0001,\t loss=0.09649473940953612\n",
      "epoch=12,\t lr=0.0001,\t loss=0.07133479447414477\n",
      "epoch=13,\t lr=0.0001,\t loss=0.05020847792426745\n",
      "epoch=14,\t lr=0.0001,\t loss=0.029850866410318606\n",
      "epoch=15,\t lr=0.0001,\t loss=0.04317732708022959\n",
      "Time elapsed:86.20479702949524\n"
     ]
    }
   ],
   "source": [
    "# Alexnet\n",
    "import gc\n",
    "gc.collect()\n",
    "alexnet = models.alexnet().to(device)  #lowest val loss 0.55\n",
    "lr = 0.0001 \n",
    "opt = torch.optim.Adam(alexnet.parameters(), lr=lr)\n",
    "epoch = 15\n",
    "loss_class = nn.CrossEntropyLoss()\n",
    "\n",
    "result_alexnet = init_list()\n",
    "train(epoch, train_dataloader,test_dataloader, alexnet, lr, loss_class, opt, result_alexnet)"
   ]
  },
  {
   "cell_type": "code",
   "execution_count": 267,
   "id": "d8828004",
   "metadata": {},
   "outputs": [],
   "source": [
    "eval(alexnet, test_dataloader)"
   ]
  },
  {
   "cell_type": "code",
   "execution_count": 270,
   "id": "3962163a",
   "metadata": {},
   "outputs": [
    {
     "name": "stdout",
     "output_type": "stream",
     "text": [
      "epoch=1,\t lr=0.0001,\t loss=1.594642483939727\n",
      "epoch=2,\t lr=0.0001,\t loss=0.2579045159121354\n",
      "epoch=3,\t lr=0.0001,\t loss=0.21411463990807533\n",
      "epoch=4,\t lr=0.0001,\t loss=0.18047499222060046\n",
      "epoch=5,\t lr=0.0001,\t loss=0.1670706539104382\n",
      "epoch=6,\t lr=0.0001,\t loss=0.10550613918652137\n",
      "epoch=7,\t lr=0.0001,\t loss=0.03387178614502773\n",
      "epoch=8,\t lr=0.0001,\t loss=0.0661972996701176\n",
      "epoch=9,\t lr=0.0001,\t loss=0.03711776650743559\n",
      "epoch=10,\t lr=0.0001,\t loss=0.0200011997949332\n",
      "epoch=11,\t lr=0.0001,\t loss=0.02041217640119915\n",
      "epoch=12,\t lr=0.0001,\t loss=0.022589844830993872\n",
      "epoch=13,\t lr=0.0001,\t loss=0.03591121690503011\n",
      "epoch=14,\t lr=0.0001,\t loss=0.02094021742232144\n",
      "epoch=15,\t lr=0.0001,\t loss=0.015545812785414151\n",
      "Time elapsed:1009.1383969783783\n"
     ]
    }
   ],
   "source": [
    "# vgg16\n",
    "vgg16 = models.vgg16().to(device)\n",
    "lr = 0.0001\n",
    "opt = torch.optim.Adam(vgg16.parameters(), lr=lr)\n",
    "epoch = default_epoch\n",
    "loss_class = nn.CrossEntropyLoss()\n",
    "\n",
    "\n",
    "result_vgg16 = init_list()\n",
    "train(epoch, train_dataloader, test_dataloader, vgg16, lr, loss_class, opt, result_vgg16)"
   ]
  },
  {
   "cell_type": "code",
   "execution_count": 271,
   "id": "5ab00adc",
   "metadata": {},
   "outputs": [],
   "source": [
    "eval(vgg16, test_dataloader)"
   ]
  },
  {
   "cell_type": "code",
   "execution_count": 273,
   "id": "cb87f729",
   "metadata": {},
   "outputs": [
    {
     "name": "stdout",
     "output_type": "stream",
     "text": [
      "epoch=1,\t lr=0.0003,\t loss=2.3456435898939767\n",
      "epoch=2,\t lr=0.0003,\t loss=0.5360366362147033\n",
      "epoch=3,\t lr=0.0003,\t loss=0.29008710632721585\n",
      "epoch=4,\t lr=0.0003,\t loss=0.24941800783077875\n",
      "epoch=5,\t lr=0.0003,\t loss=0.2282530851662159\n",
      "epoch=6,\t lr=0.0003,\t loss=0.22068486859401068\n",
      "epoch=7,\t lr=0.0003,\t loss=0.21520599784950414\n",
      "epoch=8,\t lr=0.0003,\t loss=0.19184308250745138\n",
      "epoch=9,\t lr=0.0003,\t loss=0.1728848461061716\n",
      "epoch=10,\t lr=0.0003,\t loss=0.16348679984609285\n",
      "epoch=11,\t lr=0.0003,\t loss=0.1428088415414095\n",
      "epoch=12,\t lr=0.0003,\t loss=0.11100478594501813\n",
      "epoch=13,\t lr=0.0003,\t loss=0.08871902409009635\n",
      "epoch=14,\t lr=0.0003,\t loss=0.058732746013750635\n",
      "epoch=15,\t lr=0.0003,\t loss=0.06641401334976156\n",
      "Time elapsed:76.63484215736389\n"
     ]
    }
   ],
   "source": [
    "# Squeezenet1_1\n",
    "import gc\n",
    "gc.collect()\n",
    "\n",
    "squeezenet1_1 = models.squeezenet1_1().to(device)\n",
    "lr = 0.0003\n",
    "opt = torch.optim.Adam(squeezenet1_1.parameters(), lr=lr)\n",
    "epoch = default_epoch\n",
    "loss_class = nn.CrossEntropyLoss()\n",
    "\n",
    "result_squeezenet1_1 = init_list()\n",
    "train(epoch, train_dataloader,test_dataloader, squeezenet1_1, lr, loss_class, opt, result_squeezenet1_1)"
   ]
  },
  {
   "cell_type": "code",
   "execution_count": 274,
   "id": "63900573",
   "metadata": {},
   "outputs": [],
   "source": [
    "eval(squeezenet1_1, test_dataloader)"
   ]
  },
  {
   "cell_type": "code",
   "execution_count": 275,
   "id": "f53a7313",
   "metadata": {},
   "outputs": [],
   "source": [
    "def comparison_graph(title, y_label, x_label, results, result_index, labels, markers): \n",
    "\t# plot\n",
    "\tfig, ax = plt.subplots()\n",
    "\tfig.set_size_inches(10, 5)\n",
    "\tmax_x = 0\n",
    "\tfor i in range(len(labels)): \n",
    "\t\t# make epoc list\n",
    "\t\tx = array = np.arange(1, len(results[i][result_index])+1)\n",
    "\t\tmax_x = max(max_x, len(results[i][result_index]))\n",
    "\t\tax.plot(x, results[i][result_index], linewidth=1.0, label=labels[i], marker = markers[i])\n",
    "\tax.legend(bbox_to_anchor=(1.05, 1), loc='upper left', borderaxespad=0.)\n",
    "\tax.set(xlabel= x_label, ylabel= y_label, title=title, xlim=(0, max_x + 0.5), xticks=np.arange(1, max_x + 1))\n",
    "\tplt.show()"
   ]
  },
  {
   "cell_type": "code",
   "execution_count": 278,
   "id": "7751ed70",
   "metadata": {},
   "outputs": [
    {
     "data": {
      "image/png": "[encoded data removed]",
      "text/plain": [
       "<Figure size 720x360 with 1 Axes>"
      ]
     },
     "metadata": {
      "needs_background": "light"
     },
     "output_type": "display_data"
    }
   ],
   "source": [
    "results = [result_base_cnn, result_base_mlp, result_alexnet, result_vgg16, result_squeezenet1_1]\n",
    "labels = [\"base CNN\", \"base MLP\", \"Alexnet\", \"VGG16\", \"Squeezenet_1.1\"]\n",
    "markers = [\".\",\"v\",\"p\",\"*\",\"D\"] \n",
    "\n",
    "comparison_graph(\"Accuracy Over-time\", \"Accuracy\", \"Epoch\", results, 4, labels, markers)"
   ]
  },
  {
   "cell_type": "code",
   "execution_count": null,
   "id": "e41b30df",
   "metadata": {},
   "outputs": [],
   "source": []
  }
 ],
 "metadata": {
  "kernelspec": {
   "display_name": "Python 3",
   "language": "python",
   "name": "python3"
  },
  "language_info": {
   "codemirror_mode": {
    "name": "ipython",
    "version": 3
   },
   "file_extension": ".py",
   "mimetype": "text/x-python",
   "name": "python",
   "nbconvert_exporter": "python",
   "pygments_lexer": "ipython3",
   "version": "3.8.13"
  }
 },
 "nbformat": 4,
 "nbformat_minor": 5
}
